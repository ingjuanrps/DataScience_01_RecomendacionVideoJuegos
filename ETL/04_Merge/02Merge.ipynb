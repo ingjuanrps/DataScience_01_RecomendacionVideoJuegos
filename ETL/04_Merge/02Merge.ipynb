{
 "cells": [
  {
   "cell_type": "markdown",
   "metadata": {},
   "source": [
    "### Unificando el marge anterior con el DataFrame rev_reviews."
   ]
  },
  {
   "cell_type": "markdown",
   "metadata": {},
   "source": [
    "#### Importando librerias."
   ]
  },
  {
   "cell_type": "code",
   "execution_count": 3,
   "metadata": {},
   "outputs": [],
   "source": [
    "import pandas as pd\n",
    "%store -r"
   ]
  },
  {
   "cell_type": "markdown",
   "metadata": {},
   "source": [
    "#### Instanciando mi DataFrame rev_reviews importado."
   ]
  },
  {
   "cell_type": "code",
   "execution_count": 2,
   "metadata": {},
   "outputs": [],
   "source": [
    "rev_reviews = rev_reviews"
   ]
  },
  {
   "cell_type": "code",
   "execution_count": 3,
   "metadata": {},
   "outputs": [
    {
     "data": {
      "text/html": [
       "<div>\n",
       "<style scoped>\n",
       "    .dataframe tbody tr th:only-of-type {\n",
       "        vertical-align: middle;\n",
       "    }\n",
       "\n",
       "    .dataframe tbody tr th {\n",
       "        vertical-align: top;\n",
       "    }\n",
       "\n",
       "    .dataframe thead th {\n",
       "        text-align: right;\n",
       "    }\n",
       "</style>\n",
       "<table border=\"1\" class=\"dataframe\">\n",
       "  <thead>\n",
       "    <tr style=\"text-align: right;\">\n",
       "      <th></th>\n",
       "      <th>user_id</th>\n",
       "      <th>posted</th>\n",
       "      <th>item_id</th>\n",
       "      <th>recommend</th>\n",
       "      <th>review</th>\n",
       "      <th>sentiment_analysis</th>\n",
       "    </tr>\n",
       "    <tr>\n",
       "      <th>index</th>\n",
       "      <th></th>\n",
       "      <th></th>\n",
       "      <th></th>\n",
       "      <th></th>\n",
       "      <th></th>\n",
       "      <th></th>\n",
       "    </tr>\n",
       "  </thead>\n",
       "  <tbody>\n",
       "    <tr>\n",
       "      <th>0</th>\n",
       "      <td>76561197970982479</td>\n",
       "      <td>2011</td>\n",
       "      <td>1250</td>\n",
       "      <td>True</td>\n",
       "      <td>Simple yet with great replayability. In my opi...</td>\n",
       "      <td>2</td>\n",
       "    </tr>\n",
       "    <tr>\n",
       "      <th>1</th>\n",
       "      <td>js41637</td>\n",
       "      <td>2014</td>\n",
       "      <td>251610</td>\n",
       "      <td>True</td>\n",
       "      <td>I know what you think when you see this title ...</td>\n",
       "      <td>2</td>\n",
       "    </tr>\n",
       "    <tr>\n",
       "      <th>3</th>\n",
       "      <td>doctr</td>\n",
       "      <td>2013</td>\n",
       "      <td>250320</td>\n",
       "      <td>True</td>\n",
       "      <td>This game... is so fun. The fight sequences ha...</td>\n",
       "      <td>2</td>\n",
       "    </tr>\n",
       "    <tr>\n",
       "      <th>4</th>\n",
       "      <td>maplemage</td>\n",
       "      <td>2014</td>\n",
       "      <td>211420</td>\n",
       "      <td>True</td>\n",
       "      <td>Git gud</td>\n",
       "      <td>1</td>\n",
       "    </tr>\n",
       "    <tr>\n",
       "      <th>5</th>\n",
       "      <td>Wackky</td>\n",
       "      <td>2014</td>\n",
       "      <td>249130</td>\n",
       "      <td>True</td>\n",
       "      <td>This game is Marvellous.</td>\n",
       "      <td>0</td>\n",
       "    </tr>\n",
       "    <tr>\n",
       "      <th>...</th>\n",
       "      <td>...</td>\n",
       "      <td>...</td>\n",
       "      <td>...</td>\n",
       "      <td>...</td>\n",
       "      <td>...</td>\n",
       "      <td>...</td>\n",
       "    </tr>\n",
       "    <tr>\n",
       "      <th>25764</th>\n",
       "      <td>wayfeng</td>\n",
       "      <td>2015</td>\n",
       "      <td>730</td>\n",
       "      <td>True</td>\n",
       "      <td>its FUNNNNNNNN</td>\n",
       "      <td>1</td>\n",
       "    </tr>\n",
       "    <tr>\n",
       "      <th>25765</th>\n",
       "      <td>76561198251004808</td>\n",
       "      <td>2015</td>\n",
       "      <td>253980</td>\n",
       "      <td>True</td>\n",
       "      <td>Awesome fantasy game if you don't mind the gra...</td>\n",
       "      <td>2</td>\n",
       "    </tr>\n",
       "    <tr>\n",
       "      <th>25769</th>\n",
       "      <td>72947282842</td>\n",
       "      <td>2015</td>\n",
       "      <td>730</td>\n",
       "      <td>True</td>\n",
       "      <td>Prettyy Mad Game</td>\n",
       "      <td>0</td>\n",
       "    </tr>\n",
       "    <tr>\n",
       "      <th>25771</th>\n",
       "      <td>ApxLGhost</td>\n",
       "      <td>2015</td>\n",
       "      <td>730</td>\n",
       "      <td>True</td>\n",
       "      <td>AMAZING GAME 10/10</td>\n",
       "      <td>2</td>\n",
       "    </tr>\n",
       "    <tr>\n",
       "      <th>25780</th>\n",
       "      <td>76561198267374962</td>\n",
       "      <td>2015</td>\n",
       "      <td>369200</td>\n",
       "      <td>True</td>\n",
       "      <td>Why I voted yes? 1. Girl characters have boobs...</td>\n",
       "      <td>2</td>\n",
       "    </tr>\n",
       "  </tbody>\n",
       "</table>\n",
       "<p>21069 rows × 6 columns</p>\n",
       "</div>"
      ],
      "text/plain": [
       "                 user_id  posted item_id  recommend  \\\n",
       "index                                                 \n",
       "0      76561197970982479    2011    1250       True   \n",
       "1                js41637    2014  251610       True   \n",
       "3                  doctr    2013  250320       True   \n",
       "4              maplemage    2014  211420       True   \n",
       "5                 Wackky    2014  249130       True   \n",
       "...                  ...     ...     ...        ...   \n",
       "25764            wayfeng    2015     730       True   \n",
       "25765  76561198251004808    2015  253980       True   \n",
       "25769        72947282842    2015     730       True   \n",
       "25771          ApxLGhost    2015     730       True   \n",
       "25780  76561198267374962    2015  369200       True   \n",
       "\n",
       "                                                  review  sentiment_analysis  \n",
       "index                                                                         \n",
       "0      Simple yet with great replayability. In my opi...                   2  \n",
       "1      I know what you think when you see this title ...                   2  \n",
       "3      This game... is so fun. The fight sequences ha...                   2  \n",
       "4                                                Git gud                   1  \n",
       "5                               This game is Marvellous.                   0  \n",
       "...                                                  ...                 ...  \n",
       "25764                                     its FUNNNNNNNN                   1  \n",
       "25765  Awesome fantasy game if you don't mind the gra...                   2  \n",
       "25769                                   Prettyy Mad Game                   0  \n",
       "25771                                 AMAZING GAME 10/10                   2  \n",
       "25780  Why I voted yes? 1. Girl characters have boobs...                   2  \n",
       "\n",
       "[21069 rows x 6 columns]"
      ]
     },
     "execution_count": 3,
     "metadata": {},
     "output_type": "execute_result"
    }
   ],
   "source": [
    "rev_reviews"
   ]
  },
  {
   "cell_type": "markdown",
   "metadata": {},
   "source": [
    "#### Instanciando mi DataFrame gamesMerge importado."
   ]
  },
  {
   "cell_type": "code",
   "execution_count": 4,
   "metadata": {},
   "outputs": [
    {
     "data": {
      "text/html": [
       "<div>\n",
       "<style scoped>\n",
       "    .dataframe tbody tr th:only-of-type {\n",
       "        vertical-align: middle;\n",
       "    }\n",
       "\n",
       "    .dataframe tbody tr th {\n",
       "        vertical-align: top;\n",
       "    }\n",
       "\n",
       "    .dataframe thead th {\n",
       "        text-align: right;\n",
       "    }\n",
       "</style>\n",
       "<table border=\"1\" class=\"dataframe\">\n",
       "  <thead>\n",
       "    <tr style=\"text-align: right;\">\n",
       "      <th></th>\n",
       "      <th>user_id</th>\n",
       "      <th>items_count</th>\n",
       "      <th>item_id</th>\n",
       "      <th>genres</th>\n",
       "      <th>price</th>\n",
       "      <th>anio_lanzamiento</th>\n",
       "      <th>title</th>\n",
       "      <th>playtime_forever</th>\n",
       "      <th>developer</th>\n",
       "    </tr>\n",
       "  </thead>\n",
       "  <tbody>\n",
       "    <tr>\n",
       "      <th>0</th>\n",
       "      <td>76561197970982479</td>\n",
       "      <td>277</td>\n",
       "      <td>10</td>\n",
       "      <td>action</td>\n",
       "      <td>9.99</td>\n",
       "      <td>2000</td>\n",
       "      <td>Counter-Strike</td>\n",
       "      <td>6</td>\n",
       "      <td>Valve</td>\n",
       "    </tr>\n",
       "    <tr>\n",
       "      <th>1</th>\n",
       "      <td>doctr</td>\n",
       "      <td>541</td>\n",
       "      <td>10</td>\n",
       "      <td>action</td>\n",
       "      <td>9.99</td>\n",
       "      <td>2000</td>\n",
       "      <td>Counter-Strike</td>\n",
       "      <td>93</td>\n",
       "      <td>Valve</td>\n",
       "    </tr>\n",
       "    <tr>\n",
       "      <th>2</th>\n",
       "      <td>corrupted_soul</td>\n",
       "      <td>115</td>\n",
       "      <td>10</td>\n",
       "      <td>action</td>\n",
       "      <td>9.99</td>\n",
       "      <td>2000</td>\n",
       "      <td>Counter-Strike</td>\n",
       "      <td>108</td>\n",
       "      <td>Valve</td>\n",
       "    </tr>\n",
       "    <tr>\n",
       "      <th>3</th>\n",
       "      <td>WeiEDKrSat</td>\n",
       "      <td>28</td>\n",
       "      <td>10</td>\n",
       "      <td>action</td>\n",
       "      <td>9.99</td>\n",
       "      <td>2000</td>\n",
       "      <td>Counter-Strike</td>\n",
       "      <td>328</td>\n",
       "      <td>Valve</td>\n",
       "    </tr>\n",
       "    <tr>\n",
       "      <th>4</th>\n",
       "      <td>death-hunter</td>\n",
       "      <td>121</td>\n",
       "      <td>10</td>\n",
       "      <td>action</td>\n",
       "      <td>9.99</td>\n",
       "      <td>2000</td>\n",
       "      <td>Counter-Strike</td>\n",
       "      <td>6275</td>\n",
       "      <td>Valve</td>\n",
       "    </tr>\n",
       "    <tr>\n",
       "      <th>...</th>\n",
       "      <td>...</td>\n",
       "      <td>...</td>\n",
       "      <td>...</td>\n",
       "      <td>...</td>\n",
       "      <td>...</td>\n",
       "      <td>...</td>\n",
       "      <td>...</td>\n",
       "      <td>...</td>\n",
       "      <td>...</td>\n",
       "    </tr>\n",
       "    <tr>\n",
       "      <th>2659146</th>\n",
       "      <td>NotForPikachu</td>\n",
       "      <td>1081</td>\n",
       "      <td>366350</td>\n",
       "      <td>indie</td>\n",
       "      <td>4.99</td>\n",
       "      <td>2015</td>\n",
       "      <td>ROGUS - Kingdom of The Lost Souls</td>\n",
       "      <td>16</td>\n",
       "      <td>IronDrop Studios</td>\n",
       "    </tr>\n",
       "    <tr>\n",
       "      <th>2659147</th>\n",
       "      <td>76561198093826721</td>\n",
       "      <td>14</td>\n",
       "      <td>493720</td>\n",
       "      <td>adventure,casual,indie</td>\n",
       "      <td>4.99</td>\n",
       "      <td>2016</td>\n",
       "      <td>Haven Moon</td>\n",
       "      <td>149</td>\n",
       "      <td>Francois Roussel</td>\n",
       "    </tr>\n",
       "    <tr>\n",
       "      <th>2659148</th>\n",
       "      <td>76561198107283457</td>\n",
       "      <td>33</td>\n",
       "      <td>273800</td>\n",
       "      <td>simulation</td>\n",
       "      <td>19.99</td>\n",
       "      <td>2016</td>\n",
       "      <td>Forestry 2017 - The Simulation</td>\n",
       "      <td>14</td>\n",
       "      <td>Joindots,SilentFuture</td>\n",
       "    </tr>\n",
       "    <tr>\n",
       "      <th>2659149</th>\n",
       "      <td>76561198107283457</td>\n",
       "      <td>33</td>\n",
       "      <td>354280</td>\n",
       "      <td>action,casual,indie,simulation</td>\n",
       "      <td>5.99</td>\n",
       "      <td>2016</td>\n",
       "      <td>ChaosTower</td>\n",
       "      <td>164</td>\n",
       "      <td>CashcowGames</td>\n",
       "    </tr>\n",
       "    <tr>\n",
       "      <th>2659150</th>\n",
       "      <td>massimo23</td>\n",
       "      <td>87</td>\n",
       "      <td>448540</td>\n",
       "      <td>adventure,indie</td>\n",
       "      <td>3.99</td>\n",
       "      <td>2016</td>\n",
       "      <td>Terror Lab</td>\n",
       "      <td>1</td>\n",
       "      <td>Nicolas Bernard</td>\n",
       "    </tr>\n",
       "  </tbody>\n",
       "</table>\n",
       "<p>2659151 rows × 9 columns</p>\n",
       "</div>"
      ],
      "text/plain": [
       "                   user_id  items_count  item_id  \\\n",
       "0        76561197970982479          277       10   \n",
       "1                    doctr          541       10   \n",
       "2           corrupted_soul          115       10   \n",
       "3               WeiEDKrSat           28       10   \n",
       "4             death-hunter          121       10   \n",
       "...                    ...          ...      ...   \n",
       "2659146      NotForPikachu         1081   366350   \n",
       "2659147  76561198093826721           14   493720   \n",
       "2659148  76561198107283457           33   273800   \n",
       "2659149  76561198107283457           33   354280   \n",
       "2659150          massimo23           87   448540   \n",
       "\n",
       "                                 genres  price  anio_lanzamiento  \\\n",
       "0                                action   9.99              2000   \n",
       "1                                action   9.99              2000   \n",
       "2                                action   9.99              2000   \n",
       "3                                action   9.99              2000   \n",
       "4                                action   9.99              2000   \n",
       "...                                 ...    ...               ...   \n",
       "2659146                           indie   4.99              2015   \n",
       "2659147          adventure,casual,indie   4.99              2016   \n",
       "2659148                      simulation  19.99              2016   \n",
       "2659149  action,casual,indie,simulation   5.99              2016   \n",
       "2659150                 adventure,indie   3.99              2016   \n",
       "\n",
       "                                     title  playtime_forever  \\\n",
       "0                           Counter-Strike                 6   \n",
       "1                           Counter-Strike                93   \n",
       "2                           Counter-Strike               108   \n",
       "3                           Counter-Strike               328   \n",
       "4                           Counter-Strike              6275   \n",
       "...                                    ...               ...   \n",
       "2659146  ROGUS - Kingdom of The Lost Souls                16   \n",
       "2659147                         Haven Moon               149   \n",
       "2659148     Forestry 2017 - The Simulation                14   \n",
       "2659149                         ChaosTower               164   \n",
       "2659150                         Terror Lab                 1   \n",
       "\n",
       "                     developer  \n",
       "0                        Valve  \n",
       "1                        Valve  \n",
       "2                        Valve  \n",
       "3                        Valve  \n",
       "4                        Valve  \n",
       "...                        ...  \n",
       "2659146       IronDrop Studios  \n",
       "2659147       Francois Roussel  \n",
       "2659148  Joindots,SilentFuture  \n",
       "2659149           CashcowGames  \n",
       "2659150        Nicolas Bernard  \n",
       "\n",
       "[2659151 rows x 9 columns]"
      ]
     },
     "execution_count": 4,
     "metadata": {},
     "output_type": "execute_result"
    }
   ],
   "source": [
    "gamesMerge = gamesMerge\n",
    "gamesMerge"
   ]
  },
  {
   "cell_type": "markdown",
   "metadata": {},
   "source": [
    "#### Observando la información de rev_reviews."
   ]
  },
  {
   "cell_type": "code",
   "execution_count": 5,
   "metadata": {},
   "outputs": [
    {
     "name": "stdout",
     "output_type": "stream",
     "text": [
      "<class 'pandas.core.frame.DataFrame'>\n",
      "Index: 21069 entries, 0 to 25780\n",
      "Data columns (total 6 columns):\n",
      " #   Column              Non-Null Count  Dtype \n",
      "---  ------              --------------  ----- \n",
      " 0   user_id             21069 non-null  object\n",
      " 1   posted              21069 non-null  int32 \n",
      " 2   item_id             21069 non-null  object\n",
      " 3   recommend           21069 non-null  bool  \n",
      " 4   review              21069 non-null  object\n",
      " 5   sentiment_analysis  21069 non-null  int64 \n",
      "dtypes: bool(1), int32(1), int64(1), object(3)\n",
      "memory usage: 925.9+ KB\n"
     ]
    }
   ],
   "source": [
    "rev_reviews.info()"
   ]
  },
  {
   "cell_type": "markdown",
   "metadata": {},
   "source": [
    "#### Colocando a entero la columna items_id de rev_reviews."
   ]
  },
  {
   "cell_type": "code",
   "execution_count": 6,
   "metadata": {},
   "outputs": [
    {
     "data": {
      "text/plain": [
       "index\n",
       "0          1250\n",
       "1        251610\n",
       "3        250320\n",
       "4        211420\n",
       "5        249130\n",
       "          ...  \n",
       "25764       730\n",
       "25765    253980\n",
       "25769       730\n",
       "25771       730\n",
       "25780    369200\n",
       "Name: item_id, Length: 21069, dtype: int32"
      ]
     },
     "execution_count": 6,
     "metadata": {},
     "output_type": "execute_result"
    }
   ],
   "source": [
    "rev_reviews['item_id'] = rev_reviews['item_id'].astype(int)\n",
    "rev_reviews['item_id']"
   ]
  },
  {
   "cell_type": "markdown",
   "metadata": {},
   "source": [
    "#### Convirtiendo la columna user_id a string de rev_reviews."
   ]
  },
  {
   "cell_type": "code",
   "execution_count": 7,
   "metadata": {},
   "outputs": [
    {
     "data": {
      "text/plain": [
       "index\n",
       "0        76561197970982479\n",
       "1                  js41637\n",
       "3                    doctr\n",
       "4                maplemage\n",
       "5                   Wackky\n",
       "               ...        \n",
       "25764              wayfeng\n",
       "25765    76561198251004808\n",
       "25769          72947282842\n",
       "25771            ApxLGhost\n",
       "25780    76561198267374962\n",
       "Name: user_id, Length: 21069, dtype: object"
      ]
     },
     "execution_count": 7,
     "metadata": {},
     "output_type": "execute_result"
    }
   ],
   "source": [
    "rev_reviews['user_id'] = rev_reviews['user_id'].astype(str)\n",
    "rev_reviews['user_id']"
   ]
  },
  {
   "cell_type": "markdown",
   "metadata": {},
   "source": [
    "#### Observando la información de rev_reviews."
   ]
  },
  {
   "cell_type": "code",
   "execution_count": 8,
   "metadata": {},
   "outputs": [
    {
     "name": "stdout",
     "output_type": "stream",
     "text": [
      "<class 'pandas.core.frame.DataFrame'>\n",
      "Index: 21069 entries, 0 to 25780\n",
      "Data columns (total 6 columns):\n",
      " #   Column              Non-Null Count  Dtype \n",
      "---  ------              --------------  ----- \n",
      " 0   user_id             21069 non-null  object\n",
      " 1   posted              21069 non-null  int32 \n",
      " 2   item_id             21069 non-null  int32 \n",
      " 3   recommend           21069 non-null  bool  \n",
      " 4   review              21069 non-null  object\n",
      " 5   sentiment_analysis  21069 non-null  int64 \n",
      "dtypes: bool(1), int32(2), int64(1), object(2)\n",
      "memory usage: 843.6+ KB\n"
     ]
    }
   ],
   "source": [
    "rev_reviews.info()"
   ]
  },
  {
   "cell_type": "markdown",
   "metadata": {},
   "source": [
    "#### Observando la información de  gamesMerge."
   ]
  },
  {
   "cell_type": "code",
   "execution_count": 9,
   "metadata": {},
   "outputs": [
    {
     "name": "stdout",
     "output_type": "stream",
     "text": [
      "<class 'pandas.core.frame.DataFrame'>\n",
      "RangeIndex: 2659151 entries, 0 to 2659150\n",
      "Data columns (total 9 columns):\n",
      " #   Column            Dtype  \n",
      "---  ------            -----  \n",
      " 0   user_id           object \n",
      " 1   items_count       int32  \n",
      " 2   item_id           int32  \n",
      " 3   genres            object \n",
      " 4   price             float64\n",
      " 5   anio_lanzamiento  int64  \n",
      " 6   title             object \n",
      " 7   playtime_forever  int64  \n",
      " 8   developer         object \n",
      "dtypes: float64(1), int32(2), int64(2), object(4)\n",
      "memory usage: 162.3+ MB\n"
     ]
    }
   ],
   "source": [
    "gamesMerge.info()"
   ]
  },
  {
   "cell_type": "markdown",
   "metadata": {},
   "source": [
    "#### Instanciando columnas a usar para unificar los DataFrame."
   ]
  },
  {
   "cell_type": "code",
   "execution_count": 10,
   "metadata": {},
   "outputs": [],
   "source": [
    "columnasRev=['user_id','posted','item_id','recommend','sentiment_analysis']\n",
    "columnasGames=['user_id','title','items_count','playtime_forever','developer','genres','price','anio_lanzamiento']"
   ]
  },
  {
   "cell_type": "markdown",
   "metadata": {},
   "source": [
    "#### Unificando los DataFrame."
   ]
  },
  {
   "cell_type": "code",
   "execution_count": 11,
   "metadata": {},
   "outputs": [],
   "source": [
    "gameMerge = pd.merge(gamesMerge[columnasGames],rev_reviews[columnasRev], on='user_id' ,how='inner')"
   ]
  },
  {
   "cell_type": "markdown",
   "metadata": {},
   "source": [
    "#### Almacenando mi DataFrame unificado en un archivo.parquet."
   ]
  },
  {
   "cell_type": "code",
   "execution_count": 12,
   "metadata": {},
   "outputs": [],
   "source": [
    "gameMerge.to_parquet(r'C:\\Users\\ingju\\Desktop\\jrPI_1\\data\\04gamesMerge\\02gamesmerge.parquet')"
   ]
  },
  {
   "cell_type": "markdown",
   "metadata": {},
   "source": [
    "#### Usando mi unificacion para crar un DataFrame llamado df_merge."
   ]
  },
  {
   "cell_type": "code",
   "execution_count": 4,
   "metadata": {},
   "outputs": [
    {
     "data": {
      "text/html": [
       "<div>\n",
       "<style scoped>\n",
       "    .dataframe tbody tr th:only-of-type {\n",
       "        vertical-align: middle;\n",
       "    }\n",
       "\n",
       "    .dataframe tbody tr th {\n",
       "        vertical-align: top;\n",
       "    }\n",
       "\n",
       "    .dataframe thead th {\n",
       "        text-align: right;\n",
       "    }\n",
       "</style>\n",
       "<table border=\"1\" class=\"dataframe\">\n",
       "  <thead>\n",
       "    <tr style=\"text-align: right;\">\n",
       "      <th></th>\n",
       "      <th>user_id</th>\n",
       "      <th>title</th>\n",
       "      <th>items_count</th>\n",
       "      <th>playtime_forever</th>\n",
       "      <th>developer</th>\n",
       "      <th>genres</th>\n",
       "      <th>price</th>\n",
       "      <th>anio_lanzamiento</th>\n",
       "      <th>posted</th>\n",
       "      <th>item_id</th>\n",
       "      <th>recommend</th>\n",
       "      <th>sentiment_analysis</th>\n",
       "    </tr>\n",
       "  </thead>\n",
       "  <tbody>\n",
       "    <tr>\n",
       "      <th>0</th>\n",
       "      <td>76561197970982479</td>\n",
       "      <td>Counter-Strike</td>\n",
       "      <td>277</td>\n",
       "      <td>6</td>\n",
       "      <td>Valve</td>\n",
       "      <td>action</td>\n",
       "      <td>9.99</td>\n",
       "      <td>2000</td>\n",
       "      <td>2011</td>\n",
       "      <td>1250</td>\n",
       "      <td>True</td>\n",
       "      <td>2</td>\n",
       "    </tr>\n",
       "    <tr>\n",
       "      <th>1</th>\n",
       "      <td>76561197970982479</td>\n",
       "      <td>Day of Defeat</td>\n",
       "      <td>277</td>\n",
       "      <td>7</td>\n",
       "      <td>Valve</td>\n",
       "      <td>action</td>\n",
       "      <td>4.99</td>\n",
       "      <td>2003</td>\n",
       "      <td>2011</td>\n",
       "      <td>1250</td>\n",
       "      <td>True</td>\n",
       "      <td>2</td>\n",
       "    </tr>\n",
       "    <tr>\n",
       "      <th>2</th>\n",
       "      <td>76561197970982479</td>\n",
       "      <td>Day of Defeat: Source</td>\n",
       "      <td>277</td>\n",
       "      <td>4733</td>\n",
       "      <td>Valve</td>\n",
       "      <td>action</td>\n",
       "      <td>9.99</td>\n",
       "      <td>2010</td>\n",
       "      <td>2011</td>\n",
       "      <td>1250</td>\n",
       "      <td>True</td>\n",
       "      <td>2</td>\n",
       "    </tr>\n",
       "    <tr>\n",
       "      <th>3</th>\n",
       "      <td>76561197970982479</td>\n",
       "      <td>Counter-Strike: Source</td>\n",
       "      <td>277</td>\n",
       "      <td>1853</td>\n",
       "      <td>Valve</td>\n",
       "      <td>action</td>\n",
       "      <td>19.99</td>\n",
       "      <td>2004</td>\n",
       "      <td>2011</td>\n",
       "      <td>1250</td>\n",
       "      <td>True</td>\n",
       "      <td>2</td>\n",
       "    </tr>\n",
       "    <tr>\n",
       "      <th>4</th>\n",
       "      <td>76561197970982479</td>\n",
       "      <td>Psychonauts</td>\n",
       "      <td>277</td>\n",
       "      <td>333</td>\n",
       "      <td>Double Fine Productions</td>\n",
       "      <td>action</td>\n",
       "      <td>9.99</td>\n",
       "      <td>2005</td>\n",
       "      <td>2011</td>\n",
       "      <td>1250</td>\n",
       "      <td>True</td>\n",
       "      <td>2</td>\n",
       "    </tr>\n",
       "  </tbody>\n",
       "</table>\n",
       "</div>"
      ],
      "text/plain": [
       "             user_id                   title  items_count  playtime_forever  \\\n",
       "0  76561197970982479          Counter-Strike          277                 6   \n",
       "1  76561197970982479           Day of Defeat          277                 7   \n",
       "2  76561197970982479   Day of Defeat: Source          277              4733   \n",
       "3  76561197970982479  Counter-Strike: Source          277              1853   \n",
       "4  76561197970982479             Psychonauts          277               333   \n",
       "\n",
       "                 developer  genres  price  anio_lanzamiento  posted  item_id  \\\n",
       "0                    Valve  action   9.99              2000    2011     1250   \n",
       "1                    Valve  action   4.99              2003    2011     1250   \n",
       "2                    Valve  action   9.99              2010    2011     1250   \n",
       "3                    Valve  action  19.99              2004    2011     1250   \n",
       "4  Double Fine Productions  action   9.99              2005    2011     1250   \n",
       "\n",
       "   recommend  sentiment_analysis  \n",
       "0       True                   2  \n",
       "1       True                   2  \n",
       "2       True                   2  \n",
       "3       True                   2  \n",
       "4       True                   2  "
      ]
     },
     "execution_count": 4,
     "metadata": {},
     "output_type": "execute_result"
    }
   ],
   "source": [
    "df_merge = pd.DataFrame(pd.read_parquet(r'C:\\Users\\ingju\\Desktop\\jrPI_1\\data\\04gamesMerge\\02gamesmerge.parquet'))\n",
    "df_merge.head()"
   ]
  },
  {
   "cell_type": "code",
   "execution_count": 5,
   "metadata": {},
   "outputs": [
    {
     "name": "stdout",
     "output_type": "stream",
     "text": [
      "Stored 'df_merge' (DataFrame)\n"
     ]
    }
   ],
   "source": [
    "%store df_merge"
   ]
  },
  {
   "cell_type": "markdown",
   "metadata": {},
   "source": [
    "#### Liberando memoria."
   ]
  },
  {
   "cell_type": "code",
   "execution_count": 14,
   "metadata": {},
   "outputs": [],
   "source": [
    "del rev_reviews, gamesMerge,columnasRev,columnasGames, gameMerge"
   ]
  }
 ],
 "metadata": {
  "kernelspec": {
   "display_name": "jrpsPI1-env",
   "language": "python",
   "name": "python3"
  },
  "language_info": {
   "codemirror_mode": {
    "name": "ipython",
    "version": 3
   },
   "file_extension": ".py",
   "mimetype": "text/x-python",
   "name": "python",
   "nbconvert_exporter": "python",
   "pygments_lexer": "ipython3",
   "version": "3.11.5"
  }
 },
 "nbformat": 4,
 "nbformat_minor": 2
}
